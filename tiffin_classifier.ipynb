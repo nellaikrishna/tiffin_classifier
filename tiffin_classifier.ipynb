{
  "nbformat": 4,
  "nbformat_minor": 0,
  "metadata": {
    "colab": {
      "name": "tiffin_classifier.ipynb",
      "provenance": []
    },
    "kernelspec": {
      "name": "python3",
      "display_name": "Python 3"
    },
    "widgets": {
      "application/vnd.jupyter.widget-state+json": {
        "ae202b24f3c443a28da4e22cff7a377d": {
          "model_module": "@jupyter-widgets/controls",
          "model_name": "VBoxModel",
          "state": {
            "_view_name": "VBoxView",
            "_dom_classes": [],
            "_model_name": "VBoxModel",
            "_view_module": "@jupyter-widgets/controls",
            "_model_module_version": "1.5.0",
            "_view_count": null,
            "_view_module_version": "1.5.0",
            "box_style": "",
            "layout": "IPY_MODEL_9c3dc367940c4df5910eadc1c4c43b7b",
            "_model_module": "@jupyter-widgets/controls",
            "children": [
              "IPY_MODEL_6124f54f5fec42ab99d84431d4e65d56",
              "IPY_MODEL_361edae8875b47e08bbf945ee9d5e809",
              "IPY_MODEL_739a795501024f8c865d9bd8d836dbdf",
              "IPY_MODEL_ff5727ae0a124247928ebe5aa62ac138"
            ]
          }
        },
        "9c3dc367940c4df5910eadc1c4c43b7b": {
          "model_module": "@jupyter-widgets/base",
          "model_name": "LayoutModel",
          "state": {
            "_view_name": "LayoutView",
            "grid_template_rows": null,
            "right": null,
            "justify_content": null,
            "_view_module": "@jupyter-widgets/base",
            "overflow": null,
            "_model_module_version": "1.2.0",
            "_view_count": null,
            "flex_flow": null,
            "width": null,
            "min_width": null,
            "border": null,
            "align_items": null,
            "bottom": null,
            "_model_module": "@jupyter-widgets/base",
            "top": null,
            "grid_column": null,
            "overflow_y": null,
            "overflow_x": null,
            "grid_auto_flow": null,
            "grid_area": null,
            "grid_template_columns": null,
            "flex": null,
            "_model_name": "LayoutModel",
            "justify_items": null,
            "grid_row": null,
            "max_height": null,
            "align_content": null,
            "visibility": null,
            "align_self": null,
            "height": null,
            "min_height": null,
            "padding": null,
            "grid_auto_rows": null,
            "grid_gap": null,
            "max_width": null,
            "order": null,
            "_view_module_version": "1.2.0",
            "grid_template_areas": null,
            "object_position": null,
            "object_fit": null,
            "grid_auto_columns": null,
            "margin": null,
            "display": null,
            "left": null
          }
        },
        "6124f54f5fec42ab99d84431d4e65d56": {
          "model_module": "@jupyter-widgets/controls",
          "model_name": "LabelModel",
          "state": {
            "_view_name": "LabelView",
            "style": "IPY_MODEL_59ca84fa298b4fdba15e2697450e03b2",
            "_dom_classes": [],
            "description": "",
            "_model_name": "LabelModel",
            "placeholder": "​",
            "_view_module": "@jupyter-widgets/controls",
            "_model_module_version": "1.5.0",
            "value": "Tiffin classify!",
            "_view_count": null,
            "_view_module_version": "1.5.0",
            "description_tooltip": null,
            "_model_module": "@jupyter-widgets/controls",
            "layout": "IPY_MODEL_0524cc5c119a484499aef3582204bf08"
          }
        },
        "361edae8875b47e08bbf945ee9d5e809": {
          "model_module": "@jupyter-widgets/controls",
          "model_name": "FileUploadModel",
          "state": {
            "_view_name": "FileUploadView",
            "_counter": 1,
            "style": "IPY_MODEL_f2f8ca8625b444ff805d0b4e5c732a29",
            "_dom_classes": [],
            "description": "Upload",
            "multiple": false,
            "_model_name": "FileUploadModel",
            "data": [
              null
            ],
            "button_style": "",
            "_view_module": "@jupyter-widgets/controls",
            "_model_module_version": "1.5.0",
            "accept": "",
            "_view_count": null,
            "disabled": false,
            "_view_module_version": "1.5.0",
            "error": "",
            "description_tooltip": null,
            "metadata": [
              {
                "name": "poori1.png",
                "type": "image/png",
                "size": 919979,
                "lastModified": 1591699657578
              }
            ],
            "_model_module": "@jupyter-widgets/controls",
            "layout": "IPY_MODEL_5dd459d1e94a41089ba3a6701a4763b4",
            "icon": "upload"
          }
        },
        "739a795501024f8c865d9bd8d836dbdf": {
          "model_module": "@jupyter-widgets/output",
          "model_name": "OutputModel",
          "state": {
            "_view_name": "OutputView",
            "msg_id": "",
            "_dom_classes": [],
            "_model_name": "OutputModel",
            "outputs": [
              {
                "output_type": "display_data",
                "metadata": {
                  "tags": []
                },
                "image/png": "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\n",
                "text/plain": "<PIL.Image.Image image mode=RGB size=128x84 at 0x7F14FBD49B70>"
              }
            ],
            "_view_module": "@jupyter-widgets/output",
            "_model_module_version": "1.0.0",
            "_view_count": null,
            "_view_module_version": "1.0.0",
            "layout": "IPY_MODEL_a081989233e043ca9469a89f2db06962",
            "_model_module": "@jupyter-widgets/output"
          }
        },
        "ff5727ae0a124247928ebe5aa62ac138": {
          "model_module": "@jupyter-widgets/controls",
          "model_name": "LabelModel",
          "state": {
            "_view_name": "LabelView",
            "style": "IPY_MODEL_3d37742abb8f4b85b64165107db6d837",
            "_dom_classes": [],
            "description": "",
            "_model_name": "LabelModel",
            "placeholder": "​",
            "_view_module": "@jupyter-widgets/controls",
            "_model_module_version": "1.5.0",
            "value": "Prediction: pooris; Probability: 0.9818",
            "_view_count": null,
            "_view_module_version": "1.5.0",
            "description_tooltip": null,
            "_model_module": "@jupyter-widgets/controls",
            "layout": "IPY_MODEL_b63167c889c64910a94c31e21e71cede"
          }
        },
        "59ca84fa298b4fdba15e2697450e03b2": {
          "model_module": "@jupyter-widgets/controls",
          "model_name": "DescriptionStyleModel",
          "state": {
            "_view_name": "StyleView",
            "_model_name": "DescriptionStyleModel",
            "description_width": "",
            "_view_module": "@jupyter-widgets/base",
            "_model_module_version": "1.5.0",
            "_view_count": null,
            "_view_module_version": "1.2.0",
            "_model_module": "@jupyter-widgets/controls"
          }
        },
        "0524cc5c119a484499aef3582204bf08": {
          "model_module": "@jupyter-widgets/base",
          "model_name": "LayoutModel",
          "state": {
            "_view_name": "LayoutView",
            "grid_template_rows": null,
            "right": null,
            "justify_content": null,
            "_view_module": "@jupyter-widgets/base",
            "overflow": null,
            "_model_module_version": "1.2.0",
            "_view_count": null,
            "flex_flow": null,
            "width": null,
            "min_width": null,
            "border": null,
            "align_items": null,
            "bottom": null,
            "_model_module": "@jupyter-widgets/base",
            "top": null,
            "grid_column": null,
            "overflow_y": null,
            "overflow_x": null,
            "grid_auto_flow": null,
            "grid_area": null,
            "grid_template_columns": null,
            "flex": null,
            "_model_name": "LayoutModel",
            "justify_items": null,
            "grid_row": null,
            "max_height": null,
            "align_content": null,
            "visibility": null,
            "align_self": null,
            "height": null,
            "min_height": null,
            "padding": null,
            "grid_auto_rows": null,
            "grid_gap": null,
            "max_width": null,
            "order": null,
            "_view_module_version": "1.2.0",
            "grid_template_areas": null,
            "object_position": null,
            "object_fit": null,
            "grid_auto_columns": null,
            "margin": null,
            "display": null,
            "left": null
          }
        },
        "f2f8ca8625b444ff805d0b4e5c732a29": {
          "model_module": "@jupyter-widgets/controls",
          "model_name": "ButtonStyleModel",
          "state": {
            "_view_name": "StyleView",
            "_model_name": "ButtonStyleModel",
            "_view_module": "@jupyter-widgets/base",
            "_model_module_version": "1.5.0",
            "_view_count": null,
            "button_color": null,
            "font_weight": "",
            "_view_module_version": "1.2.0",
            "_model_module": "@jupyter-widgets/controls"
          }
        },
        "5dd459d1e94a41089ba3a6701a4763b4": {
          "model_module": "@jupyter-widgets/base",
          "model_name": "LayoutModel",
          "state": {
            "_view_name": "LayoutView",
            "grid_template_rows": null,
            "right": null,
            "justify_content": null,
            "_view_module": "@jupyter-widgets/base",
            "overflow": null,
            "_model_module_version": "1.2.0",
            "_view_count": null,
            "flex_flow": null,
            "width": null,
            "min_width": null,
            "border": null,
            "align_items": null,
            "bottom": null,
            "_model_module": "@jupyter-widgets/base",
            "top": null,
            "grid_column": null,
            "overflow_y": null,
            "overflow_x": null,
            "grid_auto_flow": null,
            "grid_area": null,
            "grid_template_columns": null,
            "flex": null,
            "_model_name": "LayoutModel",
            "justify_items": null,
            "grid_row": null,
            "max_height": null,
            "align_content": null,
            "visibility": null,
            "align_self": null,
            "height": null,
            "min_height": null,
            "padding": null,
            "grid_auto_rows": null,
            "grid_gap": null,
            "max_width": null,
            "order": null,
            "_view_module_version": "1.2.0",
            "grid_template_areas": null,
            "object_position": null,
            "object_fit": null,
            "grid_auto_columns": null,
            "margin": null,
            "display": null,
            "left": null
          }
        },
        "3d37742abb8f4b85b64165107db6d837": {
          "model_module": "@jupyter-widgets/controls",
          "model_name": "DescriptionStyleModel",
          "state": {
            "_view_name": "StyleView",
            "_model_name": "DescriptionStyleModel",
            "description_width": "",
            "_view_module": "@jupyter-widgets/base",
            "_model_module_version": "1.5.0",
            "_view_count": null,
            "_view_module_version": "1.2.0",
            "_model_module": "@jupyter-widgets/controls"
          }
        },
        "b63167c889c64910a94c31e21e71cede": {
          "model_module": "@jupyter-widgets/base",
          "model_name": "LayoutModel",
          "state": {
            "_view_name": "LayoutView",
            "grid_template_rows": null,
            "right": null,
            "justify_content": null,
            "_view_module": "@jupyter-widgets/base",
            "overflow": null,
            "_model_module_version": "1.2.0",
            "_view_count": null,
            "flex_flow": null,
            "width": null,
            "min_width": null,
            "border": null,
            "align_items": null,
            "bottom": null,
            "_model_module": "@jupyter-widgets/base",
            "top": null,
            "grid_column": null,
            "overflow_y": null,
            "overflow_x": null,
            "grid_auto_flow": null,
            "grid_area": null,
            "grid_template_columns": null,
            "flex": null,
            "_model_name": "LayoutModel",
            "justify_items": null,
            "grid_row": null,
            "max_height": null,
            "align_content": null,
            "visibility": null,
            "align_self": null,
            "height": null,
            "min_height": null,
            "padding": null,
            "grid_auto_rows": null,
            "grid_gap": null,
            "max_width": null,
            "order": null,
            "_view_module_version": "1.2.0",
            "grid_template_areas": null,
            "object_position": null,
            "object_fit": null,
            "grid_auto_columns": null,
            "margin": null,
            "display": null,
            "left": null
          }
        },
        "a081989233e043ca9469a89f2db06962": {
          "model_module": "@jupyter-widgets/base",
          "model_name": "LayoutModel",
          "state": {
            "_view_name": "LayoutView",
            "grid_template_rows": null,
            "right": null,
            "justify_content": null,
            "_view_module": "@jupyter-widgets/base",
            "overflow": null,
            "_model_module_version": "1.2.0",
            "_view_count": null,
            "flex_flow": null,
            "width": null,
            "min_width": null,
            "border": null,
            "align_items": null,
            "bottom": null,
            "_model_module": "@jupyter-widgets/base",
            "top": null,
            "grid_column": null,
            "overflow_y": null,
            "overflow_x": null,
            "grid_auto_flow": null,
            "grid_area": null,
            "grid_template_columns": null,
            "flex": null,
            "_model_name": "LayoutModel",
            "justify_items": null,
            "grid_row": null,
            "max_height": null,
            "align_content": null,
            "visibility": null,
            "align_self": null,
            "height": null,
            "min_height": null,
            "padding": null,
            "grid_auto_rows": null,
            "grid_gap": null,
            "max_width": null,
            "order": null,
            "_view_module_version": "1.2.0",
            "grid_template_areas": null,
            "object_position": null,
            "object_fit": null,
            "grid_auto_columns": null,
            "margin": null,
            "display": null,
            "left": null
          }
        }
      }
    }
  },
  "cells": [
    {
      "cell_type": "code",
      "metadata": {
        "id": "Hj3POyf8OxB7",
        "colab_type": "code",
        "colab": {}
      },
      "source": [
        "# from google.colab import drive\n",
        "# drive.mount('/content/gdrive', force_remount=True)\n",
        "# root_dir = \"/content/gdrive/My Drive/course-v4/\"\n",
        "\n",
        "# # Switch to uploaded folder\n",
        "# import os\n",
        "# os.chdir('/content/gdrive/My Drive/course-v4/')\n",
        "\n",
        "# # install requirements, amongst others: FastAi2\n",
        "# !pip install -r requirements.txt\n",
        "\n",
        "# # Set up the utils file\n",
        "# os.chdir('nbs/')\n",
        "# exec(open(\"utils.py\").read())"
      ],
      "execution_count": 0,
      "outputs": []
    },
    {
      "cell_type": "code",
      "metadata": {
        "id": "5Ab7gQ7OOz54",
        "colab_type": "code",
        "colab": {}
      },
      "source": [
        "from fastai2.vision.all import *\n",
        "from fastai2.vision.widgets import *"
      ],
      "execution_count": 0,
      "outputs": []
    },
    {
      "cell_type": "code",
      "metadata": {
        "id": "PsP9ZgH1O__z",
        "colab_type": "code",
        "colab": {}
      },
      "source": [
        "path = Path()\n",
        "learn_inf = load_learner(path/'export.pkl', cpu=True)\n",
        "btn_upload = widgets.FileUpload()\n",
        "out_pl = widgets.Output()\n",
        "lbl_pred = widgets.Label()"
      ],
      "execution_count": 0,
      "outputs": []
    },
    {
      "cell_type": "code",
      "metadata": {
        "id": "53hNkqIUPGGk",
        "colab_type": "code",
        "colab": {}
      },
      "source": [
        "def on_click(change):\n",
        "    img = PILImage.create(btn_upload.data[-1])\n",
        "    out_pl.clear_output()\n",
        "    with out_pl: display(img.to_thumb(128,128))\n",
        "    pred,pred_idx,probs = learn_inf.predict(img)\n",
        "    lbl_pred.value = f'Prediction: {pred}; Probability: {probs[pred_idx]:.04f}'"
      ],
      "execution_count": 0,
      "outputs": []
    },
    {
      "cell_type": "code",
      "metadata": {
        "id": "BsLqxFBHPHNQ",
        "colab_type": "code",
        "colab": {}
      },
      "source": [
        "btn_upload.observe(on_click, names=['data'])"
      ],
      "execution_count": 0,
      "outputs": []
    },
    {
      "cell_type": "code",
      "metadata": {
        "id": "V-jP3exFPO0W",
        "colab_type": "code",
        "colab": {
          "base_uri": "https://localhost:8080/",
          "height": 197,
          "referenced_widgets": [
            "ae202b24f3c443a28da4e22cff7a377d",
            "9c3dc367940c4df5910eadc1c4c43b7b",
            "6124f54f5fec42ab99d84431d4e65d56",
            "361edae8875b47e08bbf945ee9d5e809",
            "739a795501024f8c865d9bd8d836dbdf",
            "ff5727ae0a124247928ebe5aa62ac138",
            "59ca84fa298b4fdba15e2697450e03b2",
            "0524cc5c119a484499aef3582204bf08",
            "f2f8ca8625b444ff805d0b4e5c732a29",
            "5dd459d1e94a41089ba3a6701a4763b4",
            "3d37742abb8f4b85b64165107db6d837",
            "b63167c889c64910a94c31e21e71cede",
            "a081989233e043ca9469a89f2db06962"
          ]
        },
        "outputId": "69bc799a-a840-4742-e35e-fe57af5b6487"
      },
      "source": [
        "display(VBox([widgets.Label('Tiffin classify!'), btn_upload, out_pl, lbl_pred]))"
      ],
      "execution_count": 7,
      "outputs": [
        {
          "output_type": "display_data",
          "data": {
            "application/vnd.jupyter.widget-view+json": {
              "model_id": "ae202b24f3c443a28da4e22cff7a377d",
              "version_minor": 0,
              "version_major": 2
            },
            "text/plain": [
              "VBox(children=(Label(value='Tiffin classify!'), FileUpload(value={}, description='Upload'), Output(), Label(va…"
            ]
          },
          "metadata": {
            "tags": []
          }
        },
        {
          "output_type": "display_data",
          "data": {
            "text/html": [
              ""
            ],
            "text/plain": [
              "<IPython.core.display.HTML object>"
            ]
          },
          "metadata": {
            "tags": []
          }
        }
      ]
    },
    {
      "cell_type": "code",
      "metadata": {
        "id": "FcWp39mQPPeT",
        "colab_type": "code",
        "colab": {}
      },
      "source": [
        ""
      ],
      "execution_count": 0,
      "outputs": []
    }
  ]
}